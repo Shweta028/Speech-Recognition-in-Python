{
 "cells": [
  {
   "cell_type": "code",
   "execution_count": null,
   "metadata": {},
   "outputs": [
    {
     "name": "stdout",
     "output_type": "stream",
     "text": [
      "Hey.. Enter your text\n",
      "hello\n",
      "i am done\n"
     ]
    }
   ],
   "source": [
    "import pyttsx\n",
    "import socket\n",
    "\n",
    "s=socket.socket(socket.AF_INET,socket.SOCK_DGRAM)\n",
    "\n",
    "s.bind((\"192.168.10.23\",5000))\n",
    "\n",
    "engine = pyttsx.init()\n",
    "\n",
    "print(\"Hey.. Enter your text\")\n",
    "\n",
    "while True:\n",
    "    data=s.recvfrom(1024)\n",
    "    text=data[0]\n",
    "    print text\n",
    "    engine.say(text,"")\n",
    "    "\n",
    "    if(text==\"Bye\" or text==\"bye\"): \n",
    "        engine.say(\"Nice to talk to you\")\n",
    "        break\n",
    "    else: continue\n",
    "\n"
   ]
  },
  {
   "cell_type": "code",
   "execution_count": 5,
   "metadata": {},
   "outputs": [
    {
     "data": {
      "text/plain": [
       "32512"
      ]
     },
     "execution_count": 5,
     "metadata": {},
     "output_type": "execute_result"
    }
   ],
   "source": [
    "from gtts import gTTS\n",
    "import os\n",
    "tts = gTTS(text='Good morning', lang='en')\n",
    "tts.save(\"good.mp3\")\n",
    "os.system(\"mpg321 good.mp3\")"
   ]
  },
  {
   "cell_type": "code",
   "execution_count": null,
   "metadata": {},
   "outputs": [],
   "source": []
  },
  {
   "cell_type": "code",
   "execution_count": null,
   "metadata": {},
   "outputs": [],
   "source": []
  }
 ],
 "metadata": {
  "kernelspec": {
   "display_name": "Python 2",
   "language": "python",
   "name": "python2"
  },
  "language_info": {
   "codemirror_mode": {
    "name": "ipython",
    "version": 2
   },
   "file_extension": ".py",
   "mimetype": "text/x-python",
   "name": "python",
   "nbconvert_exporter": "python",
   "pygments_lexer": "ipython2",
   "version": "2.7.12"
  }
 },
 "nbformat": 4,
 "nbformat_minor": 2
}
