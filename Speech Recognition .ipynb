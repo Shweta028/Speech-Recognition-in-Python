{
 "cells": [
  {
   "cell_type": "code",
   "execution_count": 3,
   "metadata": {},
   "outputs": [
    {
     "name": "stdout",
     "output_type": "stream",
     "text": [
      "Recording the audio...\n",
      "                     ...Recording completed\n",
      "('You said: ', u'hello how are you')\n"
     ]
    }
   ],
   "source": [
    "#!/usr/bin/python2\n",
    "\n",
    "#This code records an audio from an audio file and converts it into text using the google speech recognition service. \n",
    "\n",
    "#Before importing speech_recognition we have to install SpeechRecognition module by \"sudo pip install SpeechRecognition\"\n",
    "#Also download python-pyaudio by \"sudo apt-get install pyaudio python-pyaudio\" \n",
    "\n",
    "#importing speech_recognition module \n",
    "import speech_recognition as sr\n",
    "\n",
    "#giving path of the audio file, this file should be of .wav type rather than mp3\n",
    "audio_file=\"/home/shweta/Downloads/hello.wav\"\n",
    "\n",
    "#initializing the recognizer\n",
    "r=sr.Recognizer()\n",
    "\n",
    "print(\"Recording the audio...\")\n",
    "\n",
    "#recording the audio from the given file\n",
    "with sr.AudioFile(audio_file) as source:\n",
    "    audio=r.record(source)\n",
    "    \n",
    "    \n",
    "print(\"                     ...Recording completed\")\n",
    " \n",
    "#Calling the google speech recognition service\n",
    "try:\n",
    "    print(\"You said: \",r.recognize_google(audio))\n",
    "    \n",
    "except sr.UnknownValueError:            #Catching error if could not understand the speech\n",
    "    print(\"Google did not understand your speech \")\n",
    "\n",
    "except sr.RequestError as e:            #Catching error if could not reach to google servive\n",
    "    print(\"Could not request results from Google speech recognition service {0} : \".format(e))\n"
   ]
  },
  {
   "cell_type": "code",
   "execution_count": null,
   "metadata": {},
   "outputs": [],
   "source": []
  },
  {
   "cell_type": "code",
   "execution_count": null,
   "metadata": {},
   "outputs": [],
   "source": []
  },
  {
   "cell_type": "code",
   "execution_count": null,
   "metadata": {},
   "outputs": [],
   "source": []
  }
 ],
 "metadata": {
  "kernelspec": {
   "display_name": "Python 2",
   "language": "python",
   "name": "python2"
  },
  "language_info": {
   "codemirror_mode": {
    "name": "ipython",
    "version": 2
   },
   "file_extension": ".py",
   "mimetype": "text/x-python",
   "name": "python",
   "nbconvert_exporter": "python",
   "pygments_lexer": "ipython2",
   "version": "2.7.12"
  }
 },
 "nbformat": 4,
 "nbformat_minor": 2
}
